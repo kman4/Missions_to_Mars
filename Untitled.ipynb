{
 "cells": [
  {
   "cell_type": "code",
   "execution_count": 1,
   "metadata": {},
   "outputs": [],
   "source": [
    "#from flask import Flask, render_template, jsonify\n",
    "import pymongo\n",
    "\n",
    "#app = Flask(__name__)\n",
    "\n",
    "conn = 'mongodb://localhost:27017'\n",
    "client = pymongo.MongoClient(conn)\n",
    "db = client.fruits_db\n",
    "coll = db.fruits"
   ]
  },
  {
   "cell_type": "code",
   "execution_count": 2,
   "metadata": {},
   "outputs": [
    {
     "name": "stdout",
     "output_type": "stream",
     "text": [
      "[{'_id': ObjectId('5fcbcf90158f1dc7532fb79c'), 'vendor': 'fruit star', 'fruit': 'raspberry', 'quantity': 21, 'ripeness': 2}, {'_id': ObjectId('5fcbd319158f1dc7532fb79e'), 'vendor': 'fruit star', 'fruit': 'raspberry', 'quantity': 21, 'ripeness': 2}, {'_id': ObjectId('5fcbd32d158f1dc7532fb79f'), 'vendor': 'FarmBoy', 'fruit': 'Apple', 'quantity': 25, 'ripeness': 2, 'date': datetime.datetime(2020, 12, 5, 13, 36, 29, 798000)}]\n"
     ]
    }
   ],
   "source": [
    "mylist = []\n",
    "for item in coll.find(): \n",
    "    mylist.append(item)\n",
    "\n",
    "print(mylist)"
   ]
  },
  {
   "cell_type": "code",
   "execution_count": null,
   "metadata": {},
   "outputs": [],
   "source": []
  },
  {
   "cell_type": "code",
   "execution_count": null,
   "metadata": {},
   "outputs": [],
   "source": []
  }
 ],
 "metadata": {
  "kernelspec": {
   "display_name": "Python 3",
   "language": "python",
   "name": "python3"
  },
  "language_info": {
   "codemirror_mode": {
    "name": "ipython",
    "version": 3
   },
   "file_extension": ".py",
   "mimetype": "text/x-python",
   "name": "python",
   "nbconvert_exporter": "python",
   "pygments_lexer": "ipython3",
   "version": "3.8.3"
  }
 },
 "nbformat": 4,
 "nbformat_minor": 2
}
